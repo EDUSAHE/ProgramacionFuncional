{
 "cells": [
  {
   "attachments": {},
   "cell_type": "markdown",
   "metadata": {},
   "source": [
    "A continuación, se explicará el código del programa que da solución al proyecto 3.2 “Contador de n-gramas”.\n",
    "Primero importaremos las librerías a ocupar"
   ]
  },
  {
   "cell_type": "code",
   "execution_count": 1,
   "metadata": {},
   "outputs": [],
   "source": [
    "import re\n",
    "import itertools"
   ]
  },
  {
   "attachments": {},
   "cell_type": "markdown",
   "metadata": {},
   "source": [
    "Definimos una función llamada “read_file” que tendrá como finalidad leer el archivo txt que contiene las secuencias con las que se trabajará, esta función retornará una lista de listas, cada lista contiene las palabras correspondientes a una secuencia, para obtener estas palabras se hará uso de una expresión regular que nos ayudará a quitar aquellos caracteres que no necesitaremos(números, = y \\n) de la cadena, para posteriormente aplicar la función Split que realizara la separación por comas y retornara la lista de palabras."
   ]
  },
  {
   "cell_type": "code",
   "execution_count": 2,
   "metadata": {},
   "outputs": [],
   "source": [
    "def read_file():\n",
    "    with open(\"Ejemplo.txt\", encoding=\"utf8\") as textfile:\n",
    "        return [re.sub(r'[0-9=\\n]','',i).split(',') for i in textfile if re.sub(r'[0-9=\\n]','',i)]"
   ]
  },
  {
   "attachments": {},
   "cell_type": "markdown",
   "metadata": {},
   "source": [
    "Definimos otra función llamada “write_file” que tendrá como finalidad escribir la salida del programa en un archivo txt, esta función recibirá como parámetros el nombre del archivo donde se guardará la salida y el Sting que contiene la salida del programa."
   ]
  },
  {
   "cell_type": "code",
   "execution_count": 3,
   "metadata": {},
   "outputs": [],
   "source": [
    "def write_file(name,string):\n",
    "    with open(name,\"w\", encoding=\"utf8\") as textfile:\n",
    "        textfile.write(string)\n",
    "        textfile.close()\n",
    "        return"
   ]
  },
  {
   "attachments": {},
   "cell_type": "markdown",
   "metadata": {},
   "source": [
    "Ahora, definimos una función llamada “make_ngrama” la cual tendrá como finalidad crear las gramas con tamaño n de una secuencia, recibe como parámetros una lista de palabras correspondientes a una secuencia y el número n que establecerá el tamaño de las gramas, esta función nos retornara una lista contenedora de todos los n-gramas correspondientes a la secuencia recibida, para esto haremos uso de un list comprehension que realizara un ciclo desde i=0 hasta i=(tamaño de la lista de palabras menos n-1) con la condición de que n sea menor o igual al tamaño de la lista de palabras, en cada iteración se hará uso de la función join que recibe una slice de la lista de palabras, esta slice va desde i hasta n+i para que de esta forma se vayan construyendo las gramas de tamaño n, join se encargará de separar por comas las palabras dentro del n-grama."
   ]
  },
  {
   "cell_type": "code",
   "execution_count": 4,
   "metadata": {},
   "outputs": [],
   "source": [
    "def make_ngrama(data,n):\n",
    "    return [\",\".join(data[i:n+i]) for i in range(len(data)-(n-1)) if n<=len(data)]"
   ]
  },
  {
   "attachments": {},
   "cell_type": "markdown",
   "metadata": {},
   "source": [
    "Como paso final, definimos una función llamada “count_ngramas” la cual tendrá como finalidad contar cuantas veces se repite un n-grama en todas las secuencias y filtrará aquellas que se repitan al menos B veces, recibimos como parámetro la lista de listas de palabras de todas las secuencias, el número n que corresponde al tamaño deseado de las gramas, el número B correspondiente al umbral de frecuencia y por último el nombre del archivo donde se desea guardar el output de la función, a continuación se enumeran las acciones que realizara la función:\n",
    "\n",
    "1.- Primero realizamos un map, este map recibe como iterable la lista de listas de palabras correspondientes a todas las secuencias, a cada una de estas listas se le aplicara la función “make_ngrama”, lo que nos devuelve un iterador de una lista de listas de n-gramas de todas las secuencias, haremos uso de la función “itertools.chain” la cual aplanará la lista de listas convirtiéndola en una sola lista contenedora de todos los n-gramas.\n",
    "\n",
    "2.- realizaremos un generator comprehension, el cual iterará sobre un set comprehension que contiene los n-gramas sin repeticiones, esto con la finalidad de aplicarle la función “count” a la lista obtenida en el anterior punto, dicha función nos devolverá el número de veces que se repite el n-grama dentro de la lista, número el cual almacenaremos dentro del generator en una lista junto con su n-grama correspondiente. Este generator obtenido funcionará como entrada de un filter, este filter filtrará con ayuda de una función lambda aquellos n-gramas que aparezcan al menos B veces en todas las secuencias, el iterable que nos retorna el filter servirá como entrada de una función sorted que devolverá una lista ordenada por frecuencias de forma descendente.\n",
    "\n",
    "3.- Nos apoyaremos de un join para darle el formato requerido a la lista, almacenando los resultados en un string, dicho string será enviado como parámetro de la función “write_file” junto con el parámetro “nombre” recibido."
   ]
  },
  {
   "cell_type": "code",
   "execution_count": 5,
   "metadata": {},
   "outputs": [],
   "source": [
    "def count_ngramas(data,n,b,name):\n",
    "    ngramas = list(itertools.chain(*map(lambda x: make_ngrama(x,n),data)))\n",
    "    h = sorted(filter(lambda f: f[0]>=b,([ngramas.count(i),i] for i in {c for c in ngramas})), key=lambda x: x[0],reverse=True)\n",
    "    s = \"\\n\".join(f\"[{i[0]}] {i[1]}\" for i in h)\n",
    "    output = f\"\"\"Se encontraron {len(h)} gramas de tamaño {n}\n",
    "{s}\n",
    "    \"\"\"\n",
    "    write_file(name,output)\n",
    "    return"
   ]
  },
  {
   "attachments": {},
   "cell_type": "markdown",
   "metadata": {},
   "source": [
    "Dentro de main, se manda a llamar a la función “read_file” para posteriormente ocupar lo que nos retorna como parámetro de la función  “count_ngramas”, en este caso se manda a llamar 3 veces a la función para los 3 ejemplos solicitados."
   ]
  },
  {
   "cell_type": "code",
   "execution_count": 6,
   "metadata": {},
   "outputs": [],
   "source": [
    "if __name__ == '__main__':\n",
    "    l = read_file()\n",
    "    count_ngramas(l,1,10,\"Ejemplo_n_1_B_10.txt\")\n",
    "    count_ngramas(l,2,7,\"Ejemplo_n_2_B_7.txt\")\n",
    "    count_ngramas(l,3,4,\"Ejemplo_n_3_B_4.txt\")"
   ]
  }
 ],
 "metadata": {
  "kernelspec": {
   "display_name": "Python 3",
   "language": "python",
   "name": "python3"
  },
  "language_info": {
   "codemirror_mode": {
    "name": "ipython",
    "version": 3
   },
   "file_extension": ".py",
   "mimetype": "text/x-python",
   "name": "python",
   "nbconvert_exporter": "python",
   "pygments_lexer": "ipython3",
   "version": "3.10.7"
  },
  "orig_nbformat": 4,
  "vscode": {
   "interpreter": {
    "hash": "e8b218fb2fb742f874131db7d5423a084c076321bc52c619be06afc058ec33e6"
   }
  }
 },
 "nbformat": 4,
 "nbformat_minor": 2
}
